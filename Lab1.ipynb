{
  "nbformat": 4,
  "nbformat_minor": 0,
  "metadata": {
    "colab": {
      "name": "Lab1.ipynb",
      "provenance": [],
      "authorship_tag": "ABX9TyMz+Ubss8GEZY0orG7m0kgL",
      "include_colab_link": true
    },
    "kernelspec": {
      "name": "python3",
      "display_name": "Python 3"
    },
    "language_info": {
      "name": "python"
    }
  },
  "cells": [
    {
      "cell_type": "markdown",
      "metadata": {
        "id": "view-in-github",
        "colab_type": "text"
      },
      "source": [
        "<a href=\"https://colab.research.google.com/github/DoanNguyenNhatLinh/PhanTichDuLieu/blob/main/Lab1.ipynb\" target=\"_parent\"><img src=\"https://colab.research.google.com/assets/colab-badge.svg\" alt=\"Open In Colab\"/></a>"
      ]
    },
    {
      "cell_type": "code",
      "execution_count": null,
      "metadata": {
        "colab": {
          "base_uri": "https://localhost:8080/"
        },
        "id": "14_QtZ-13ioz",
        "outputId": "14cc4e51-606d-4422-a9a1-057fa494461d"
      },
      "outputs": [
        {
          "output_type": "stream",
          "name": "stdout",
          "text": [
            "hehe\n"
          ]
        }
      ],
      "source": [
        "print(\"hehe\")"
      ]
    },
    {
      "cell_type": "code",
      "source": [
        "print(\"Nhật Linh\")"
      ],
      "metadata": {
        "id": "0dllNyY35t6I",
        "outputId": "631a94bb-48f7-4fd6-d368-4dbe3c9b388d",
        "colab": {
          "base_uri": "https://localhost:8080/"
        }
      },
      "execution_count": 1,
      "outputs": [
        {
          "output_type": "stream",
          "name": "stdout",
          "text": [
            "Nhật Linh\n"
          ]
        }
      ]
    },
    {
      "cell_type": "code",
      "source": [
        "print(\"chào\")"
      ],
      "metadata": {
        "id": "sKymJSz46G7d",
        "outputId": "6f2e4276-a960-4e8f-bade-c8abc69a00a8",
        "colab": {
          "base_uri": "https://localhost:8080/"
        }
      },
      "execution_count": 2,
      "outputs": [
        {
          "output_type": "stream",
          "name": "stdout",
          "text": [
            "chào\n"
          ]
        }
      ]
    }
  ]
}