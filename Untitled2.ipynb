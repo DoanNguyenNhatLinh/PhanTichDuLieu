{
  "nbformat": 4,
  "nbformat_minor": 0,
  "metadata": {
    "colab": {
      "name": "Untitled2.ipynb",
      "provenance": [],
      "authorship_tag": "ABX9TyPn7+7mwyAgT1RSZgze18I0",
      "include_colab_link": true
    },
    "kernelspec": {
      "name": "python3",
      "display_name": "Python 3"
    },
    "language_info": {
      "name": "python"
    }
  },
  "cells": [
    {
      "cell_type": "markdown",
      "metadata": {
        "id": "view-in-github",
        "colab_type": "text"
      },
      "source": [
        "<a href=\"https://colab.research.google.com/github/DoanNguyenNhatLinh/PhanTichDuLieu/blob/main/Untitled2.ipynb\" target=\"_parent\"><img src=\"https://colab.research.google.com/assets/colab-badge.svg\" alt=\"Open In Colab\"/></a>"
      ]
    },
    {
      "cell_type": "markdown",
      "source": [
        ""
      ],
      "metadata": {
        "id": "z70BfUBV_M-a"
      }
    },
    {
      "cell_type": "markdown",
      "source": [
        ""
      ],
      "metadata": {
        "id": "Ge-66jV__N6x"
      }
    },
    {
      "cell_type": "code",
      "source": [
        "import pandas as pd \n",
        "import numpy as np \n",
        "df=pd.read_csv(\"https://raw.githubusercontent.com/DoanNguyenNhatLinh/PhanTichDuLieu/main/dulieuxettuyendaihoc.csv\")\n",
        "print(df)"
      ],
      "metadata": {
        "colab": {
          "base_uri": "https://localhost:8080/"
        },
        "id": "pCctG5Bc9nnq",
        "outputId": "5c2ed984-e0e4-4a33-ce9c-16e4de1abef9"
      },
      "execution_count": 12,
      "outputs": [
        {
          "output_type": "stream",
          "name": "stdout",
          "text": [
            "    STT   T1   L1   H1   S1   V1   X1  ...  GT  DT   KV   DH1   DH2   DH3  KT\n",
            "0     1  7.2  7.3  6.3  7.3  7.0  7.9  ...   F NaN  2NT  3.25  3.25  4.50  A1\n",
            "1     2  5.4  3.9  3.9  4.0  5.4  5.4  ...   M NaN    1  6.00  4.00  3.50   C\n",
            "2     3  5.6  6.8  7.2  7.5  4.3  7.4  ...   M NaN    1  5.00  6.75  4.00   C\n",
            "3     4  6.6  6.4  5.3  6.9  5.4  7.3  ...   M NaN    1  4.25  4.25  5.25  D1\n",
            "4     5  6.0  5.0  6.0  7.3  6.5  7.7  ...   M NaN  2NT  4.25  4.50  5.00   A\n",
            "..  ...  ...  ...  ...  ...  ...  ...  ...  ..  ..  ...   ...   ...   ...  ..\n",
            "95   96  8.6  6.9  7.4  8.8  7.6  5.8  ...   F NaN    1  5.25  1.50  6.25   C\n",
            "96   97  3.7  5.4  6.0  5.1  5.5  3.9  ...   F NaN    1  5.25  3.75  4.75   C\n",
            "97   98  8.8  5.5  7.4  7.7  6.2  7.3  ...   M NaN  2NT  7.00  8.00  4.00   C\n",
            "98   99  2.7  1.8  3.4  5.3  4.5  7.9  ...   M NaN    1  5.00  3.50  5.50   C\n",
            "99  100  4.1  5.2  4.9  5.3  5.5  5.4  ...   M NaN  2NT  5.25  2.50  4.25   C\n",
            "\n",
            "[100 rows x 56 columns]\n"
          ]
        }
      ]
    },
    {
      "cell_type": "code",
      "source": [
        ""
      ],
      "metadata": {
        "id": "tyLiL7S06WMd"
      },
      "execution_count": null,
      "outputs": []
    }
  ]
}